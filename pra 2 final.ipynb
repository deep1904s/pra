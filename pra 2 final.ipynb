{
 "cells": [
  {
   "cell_type": "code",
   "execution_count": 11,
   "id": "f5ec7b3a",
   "metadata": {},
   "outputs": [
    {
     "name": "stderr",
     "output_type": "stream",
     "text": [
      "/Users/anaconda3/lib/python3.11/site-packages/sklearn/svm/_classes.py:31: FutureWarning: The default value of `dual` will change from `True` to `'auto'` in 1.5. Set the value of `dual` explicitly to suppress the warning.\n",
      "  warnings.warn(\n"
     ]
    },
    {
     "name": "stdout",
     "output_type": "stream",
     "text": [
      "SVM Classification Report:\n",
      "                           precision    recall  f1-score   support\n",
      "\n",
      "             alt.atheism       0.93      0.93      0.93       151\n",
      "           comp.graphics       0.82      0.88      0.85       202\n",
      " comp.os.ms-windows.misc       0.88      0.86      0.87       195\n",
      "comp.sys.ibm.pc.hardware       0.74      0.79      0.76       183\n",
      "   comp.sys.mac.hardware       0.88      0.89      0.89       205\n",
      "          comp.windows.x       0.90      0.88      0.89       215\n",
      "            misc.forsale       0.89      0.84      0.86       193\n",
      "               rec.autos       0.92      0.94      0.93       196\n",
      "         rec.motorcycles       0.97      0.95      0.96       168\n",
      "      rec.sport.baseball       0.97      0.99      0.98       211\n",
      "        rec.sport.hockey       0.97      0.97      0.97       198\n",
      "               sci.crypt       0.98      0.98      0.98       201\n",
      "         sci.electronics       0.93      0.85      0.89       202\n",
      "                 sci.med       0.94      0.96      0.95       194\n",
      "               sci.space       0.94      0.98      0.96       189\n",
      "  soc.religion.christian       0.95      0.98      0.97       202\n",
      "      talk.politics.guns       0.94      0.96      0.95       188\n",
      "   talk.politics.mideast       0.99      0.99      0.99       182\n",
      "      talk.politics.misc       0.94      0.89      0.92       159\n",
      "      talk.religion.misc       0.91      0.85      0.88       136\n",
      "\n",
      "                accuracy                           0.92      3770\n",
      "               macro avg       0.92      0.92      0.92      3770\n",
      "            weighted avg       0.92      0.92      0.92      3770\n",
      "\n",
      "SVM Accuracy: 0.9196286472148542\n",
      "Logistic Regression Accuracy: 0.8960212201591512\n"
     ]
    }
   ],
   "source": [
    "import matplotlib.pyplot as plt\n",
    "import seaborn as sns\n",
    "from sklearn.datasets import fetch_20newsgroups\n",
    "from sklearn.feature_extraction.text import TfidfVectorizer\n",
    "from sklearn.svm import LinearSVC\n",
    "from sklearn.linear_model import LogisticRegression\n",
    "from sklearn.pipeline import make_pipeline\n",
    "from sklearn.model_selection import train_test_split\n",
    "from sklearn.metrics import classification_report, accuracy_score\n",
    "\n",
    "# Step 1: Load the 20 Newsgroups dataset\n",
    "df= fetch_20newsgroups(subset='all')\n",
    "X = df.data\n",
    "y = df.target\n",
    "labels = df.target_names\n",
    "\n",
    "# Step 2: Split into training and test sets\n",
    "X_train, X_test, y_train, y_test = train_test_split(X, y, test_size=0.2, random_state=42)\n",
    "\n",
    "# Step 3A: Create pipeline for LinearSVC\n",
    "svm = make_pipeline(TfidfVectorizer(stop_words='english', max_features=20000), LinearSVC())\n",
    "svm.fit(X_train, y_train)\n",
    "y_pred_svm = svm.predict(X_test)\n",
    "\n",
    "# Step 3B: Create pipeline for Logistic Regression\n",
    "model = make_pipeline(TfidfVectorizer(stop_words='english', max_features=20000), LogisticRegression())\n",
    "model.fit(X_train, y_train)\n",
    "y_pred_lr = model.predict(X_test)\n",
    "\n",
    "# Step 4: Evaluation - SVM\n",
    "print(\"SVM Classification Report:\\n\", classification_report(y_test, y_pred_svm, target_names=labels))\n",
    "print(\"SVM Accuracy:\", accuracy_score(y_test, y_pred_svm))\n",
    "print(\"Logistic Regression Accuracy:\", accuracy_score(y_test, y_pred_lr))\n"
   ]
  },
  {
   "cell_type": "code",
   "execution_count": null,
   "id": "1490405c",
   "metadata": {},
   "outputs": [],
   "source": []
  },
  {
   "cell_type": "code",
   "execution_count": null,
   "id": "00ab051e",
   "metadata": {},
   "outputs": [],
   "source": []
  }
 ],
 "metadata": {
  "kernelspec": {
   "display_name": "Python 3 (ipykernel)",
   "language": "python",
   "name": "python3"
  },
  "language_info": {
   "codemirror_mode": {
    "name": "ipython",
    "version": 3
   },
   "file_extension": ".py",
   "mimetype": "text/x-python",
   "name": "python",
   "nbconvert_exporter": "python",
   "pygments_lexer": "ipython3",
   "version": "3.11.8"
  }
 },
 "nbformat": 4,
 "nbformat_minor": 5
}
