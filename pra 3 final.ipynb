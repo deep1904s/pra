{
 "cells": [
  {
   "cell_type": "code",
   "execution_count": 1,
   "id": "941f41b4",
   "metadata": {},
   "outputs": [],
   "source": [
    "import numpy as np\n",
    "import pandas as pd\n",
    "import matplotlib.pyplot as plt\n",
    "import seaborn as sns\n",
    "from scipy.stats import norm\n",
    "np.random.seed(42)\n",
    "n_samples = 1000\n",
    "data = {'alcohol': np.random.normal(10, 2, n_samples),\n",
    "'acidity': np.random.normal(5, 1, n_samples),\n",
    "'pH': np.random.normal(3.2, 0.3, n_samples),\n",
    "'quality': np.random.randint(3, 10, n_samples)\n",
    "}\n",
    "df = pd.DataFrame(data)\n",
    "df\n",
    "selected_features = ['alcohol','acidity','pH']\n",
    "stats = df[selected_features].describe().T[['mean','std']]\n",
    "stats['variance'] = stats['std'] ** 2\n",
    "print(\"Descriptive Statistics:\")\n",
    "print(stats)\n",
    "plt.figure(figsize=(12, 4))\n",
    "for i, feature in enumerate(selected_features):\n",
    "    plt.subplot(1, 3, i + 1)\n",
    "    sns.histplot(df[feature], bins=30, kde=True, stat=\"density\", color='blue', alpha=0.6)\n",
    "    x = np.linspace(df[feature].min(), df[feature].max(), 100)\n",
    "    plt.plot(x, norm.pdf(x, stats.loc[feature,'mean'], stats.loc[feature,'std']),'r')\n",
    "    plt.title(f'Gaussian Fit for {feature}')\n",
    "\n",
    "plt.show()\n",
    "sns.heatmap(df.corr(), annot=True, cmap='coolwarm', fmt='.2f')\n",
    "\n"
   ]
  }
 ],
 "metadata": {
  "kernelspec": {
   "display_name": "Python 3 (ipykernel)",
   "language": "python",
   "name": "python3"
  },
  "language_info": {
   "codemirror_mode": {
    "name": "ipython",
    "version": 3
   },
   "file_extension": ".py",
   "mimetype": "text/x-python",
   "name": "python",
   "nbconvert_exporter": "python",
   "pygments_lexer": "ipython3",
   "version": "3.11.8"
  }
 },
 "nbformat": 4,
 "nbformat_minor": 5
}
