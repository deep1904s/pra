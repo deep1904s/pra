{
 "cells": [
  {
   "cell_type": "code",
   "execution_count": 3,
   "id": "bb608cee",
   "metadata": {},
   "outputs": [],
   "source": [
    "import numpy as np\n",
    "import matplotlib.pyplot as plt\n",
    "from hmmlearn import hmm\n",
    "from sklearn.metrics import accuracy_score\n",
    "\n",
    "observations = list(\"ACGTGCGTACGTAGCGTACGTAGCGTACGT\")\n",
    "hidden_states_true = [0]*10 + [1]*10 + [0]*10  \n",
    "\n",
    "nucleotide_map = {'A': 0, 'C': 1, 'G': 2, 'T': 3}\n",
    "X = np.array([[nucleotide_map[nuc]] for nuc in observations])\n",
    "y_true = np.array(hidden_states_true)\n",
    "\n",
    "model = hmm.MultinomialHMM(n_components=2, n_iter=100, random_state=42)\n",
    "model.fit(X)\n",
    "\n",
    "y_pred = model.predict(X)\n",
    "accuracy = accuracy_score(y_true, y_pred)\n",
    "print(f\"Model Accuracy: {accuracy:.2f}\")\n",
    "\n",
    "plt.figure(figsize=(10, 4))\n",
    "plt.plot(y_true, label=\"True Gene Regions (0=Exon, 1=Intron)\", color='blue')\n",
    "plt.plot(y_pred, label=\"Predicted Gene Regions\", color='red', linestyle='--')\n",
    "plt.title(\"HMM Prediction vs True Gene Regions\")\n",
    "plt.xlabel(\"Nucleotide Position\")\n",
    "plt.ylabel(\"State\")\n",
    "plt.legend()\n",
    "plt.grid(True)\n",
    "plt.show()\n"
   ]
  }
 ],
 "metadata": {
  "kernelspec": {
   "display_name": "Python 3 (ipykernel)",
   "language": "python",
   "name": "python3"
  },
  "language_info": {
   "codemirror_mode": {
    "name": "ipython",
    "version": 3
   },
   "file_extension": ".py",
   "mimetype": "text/x-python",
   "name": "python",
   "nbconvert_exporter": "python",
   "pygments_lexer": "ipython3",
   "version": "3.11.8"
  }
 },
 "nbformat": 4,
 "nbformat_minor": 5
}
