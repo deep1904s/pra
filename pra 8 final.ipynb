{
 "cells": [
  {
   "cell_type": "code",
   "execution_count": 1,
   "id": "3939325b",
   "metadata": {},
   "outputs": [],
   "source": [
    "import numpy as np\n",
    "import matplotlib.pyplot as plt\n",
    "from sklearn.mixture import GaussianMixture\n",
    "from sklearn.datasets import fetch_openml\n",
    "from sklearn.decomposition import PCA\n",
    "\n",
    "mnist = fetch_openml(\"mnist_784\")\n",
    "X = mnist.data.to_numpy()\n",
    "y = mnist.target\n",
    "\n",
    "pca = PCA(n_components=50) \n",
    "X_reduced = pca.fit_transform(X)\n",
    "\n",
    "num_clusters = 10 \n",
    "gmm = GaussianMixture(n_components=num_clusters, covariance_type=\"full\", random_state=42)\n",
    "gmm.fit(X_reduced)\n",
    "\n",
    "clusters = gmm.predict(X_reduced)\n",
    "\n",
    "def plot_cluster_images(cluster_number, num_samples=10):\n",
    "    indices = np.where(clusters == cluster_number)[0][:num_samples]\n",
    "    fig, axes = plt.subplots(1, num_samples))\n",
    "    for i, idx in enumerate(indices):\n",
    "        axes[i].imshow(X[idx].reshape(28, 28))  \n",
    "        axes[i].axis(\"off\")\n",
    "    plt.suptitle(f\"Cluster {cluster_number}\")\n",
    "    plt.show()\n",
    "    \n",
    "for i in range(5):\n",
    "    plot_cluster_images(i)"
   ]
  },
  {
   "cell_type": "code",
   "execution_count": null,
   "id": "4f1ca474",
   "metadata": {},
   "outputs": [],
   "source": []
  }
 ],
 "metadata": {
  "kernelspec": {
   "display_name": "Python 3 (ipykernel)",
   "language": "python",
   "name": "python3"
  },
  "language_info": {
   "codemirror_mode": {
    "name": "ipython",
    "version": 3
   },
   "file_extension": ".py",
   "mimetype": "text/x-python",
   "name": "python",
   "nbconvert_exporter": "python",
   "pygments_lexer": "ipython3",
   "version": "3.11.8"
  }
 },
 "nbformat": 4,
 "nbformat_minor": 5
}
